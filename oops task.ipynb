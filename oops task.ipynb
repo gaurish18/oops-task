{
 "cells": [
  {
   "cell_type": "code",
   "execution_count": 1,
   "id": "5cc09245-8e1b-4bf3-8e4d-2442042dc65a",
   "metadata": {},
   "outputs": [
    {
     "name": "stdout",
     "output_type": "stream",
     "text": [
      "Name of Vehicle: Car\n",
      "Max Speed: 200 km/h\n",
      "Average Speed: 60 km/h\n",
      "Name of Vehicle: Bike\n",
      "Max Speed: 120 km/h\n",
      "Average Speed: 40 km/h\n"
     ]
    }
   ],
   "source": [
    "class Vehicle:\n",
    "    def __init__(self, name_of_vehicle, max_speed, average_speed):\n",
    "        self.name_of_vehicle = name_of_vehicle\n",
    "        self.max_speed = max_speed\n",
    "        self.average_speed = average_speed\n",
    "\n",
    "# Example usage:\n",
    "car = Vehicle(\"Car\", 200, 60)\n",
    "bike = Vehicle(\"Bike\", 120, 40)\n",
    "\n",
    "print(f\"Name of Vehicle: {car.name_of_vehicle}\")\n",
    "print(f\"Max Speed: {car.max_speed} km/h\")\n",
    "print(f\"Average Speed: {car.average_speed} km/h\")\n",
    "\n",
    "print(f\"Name of Vehicle: {bike.name_of_vehicle}\")\n",
    "print(f\"Max Speed: {bike.max_speed} km/h\")\n",
    "print(f\"Average Speed: {bike.average_speed} km/h\")\n"
   ]
  },
  {
   "cell_type": "code",
   "execution_count": null,
   "id": "5ea7c8f1-34cd-4fa7-b52a-c3c06e8821f0",
   "metadata": {},
   "outputs": [],
   "source": []
  },
  {
   "cell_type": "code",
   "execution_count": 2,
   "id": "fe77c6ca-f20b-4931-83f6-8de202057db5",
   "metadata": {},
   "outputs": [
    {
     "name": "stdout",
     "output_type": "stream",
     "text": [
      "Name of Vehicle: Car\n",
      "Max Speed: 200 km/h\n",
      "Average Speed: 60 km/h\n",
      "Car has a seating capacity of 5 passengers.\n"
     ]
    }
   ],
   "source": [
    "class Vehicle:\n",
    "    def __init__(self, name_of_vehicle, max_speed, average_speed):\n",
    "        self.name_of_vehicle = name_of_vehicle\n",
    "        self.max_speed = max_speed\n",
    "        self.average_speed = average_speed\n",
    "\n",
    "class Car(Vehicle):\n",
    "    def __init__(self, name_of_vehicle, max_speed, average_speed):\n",
    "        super().__init__(name_of_vehicle, max_speed, average_speed)\n",
    "\n",
    "    def seating_capacity(self, capacity):\n",
    "        return f\"{self.name_of_vehicle} has a seating capacity of {capacity} passengers.\"\n",
    "\n",
    "# Example usage:\n",
    "car = Car(\"Car\", 200, 60)\n",
    "print(f\"Name of Vehicle: {car.name_of_vehicle}\")\n",
    "print(f\"Max Speed: {car.max_speed} km/h\")\n",
    "print(f\"Average Speed: {car.average_speed} km/h\")\n",
    "\n",
    "seating_capacity_info = car.seating_capacity(5)\n",
    "print(seating_capacity_info)\n"
   ]
  },
  {
   "cell_type": "code",
   "execution_count": null,
   "id": "60048c6f-c1bc-4108-b36e-ee94b3e67ad9",
   "metadata": {},
   "outputs": [],
   "source": []
  },
  {
   "cell_type": "markdown",
   "id": "851a0ee6-3766-4876-a1d5-ccf59a03a05d",
   "metadata": {},
   "source": [
    "Multiple inheritance is a feature in object-oriented programming languages like Python that allows a class to inherit attributes and methods from more than one parent class. This means a subclass can inherit characteristics from multiple classes, enabling it to have a combination of behaviors from different parent classes."
   ]
  },
  {
   "cell_type": "code",
   "execution_count": 3,
   "id": "282f82cb-bc2f-4535-babf-79d8335b6058",
   "metadata": {},
   "outputs": [
    {
     "name": "stdout",
     "output_type": "stream",
     "text": [
      "Name: John, Age: 30, City: New York, State: NY, Phone: 123-456-7890\n"
     ]
    }
   ],
   "source": [
    "class Person:\n",
    "    def __init__(self, name, age):\n",
    "        self.name = name\n",
    "        self.age = age\n",
    "\n",
    "    def get_info(self):\n",
    "        return f\"Name: {self.name}, Age: {self.age}\"\n",
    "\n",
    "class Address:\n",
    "    def __init__(self, city, state):\n",
    "        self.city = city\n",
    "        self.state = state\n",
    "\n",
    "    def get_address(self):\n",
    "        return f\"City: {self.city}, State: {self.state}\"\n",
    "\n",
    "class ContactInfo(Person, Address):\n",
    "    def __init__(self, name, age, city, state, phone):\n",
    "        # Call the constructors of both parent classes\n",
    "        Person.__init__(self, name, age)\n",
    "        Address.__init__(self, city, state)\n",
    "        self.phone = phone\n",
    "\n",
    "    def get_contact_info(self):\n",
    "        person_info = self.get_info()\n",
    "        address_info = self.get_address()\n",
    "        return f\"{person_info}, {address_info}, Phone: {self.phone}\"\n",
    "\n",
    "# Example usage:\n",
    "contact = ContactInfo(\"John\", 30, \"New York\", \"NY\", \"123-456-7890\")\n",
    "print(contact.get_contact_info())\n"
   ]
  },
  {
   "cell_type": "code",
   "execution_count": null,
   "id": "4da4f19a-4bfd-4bda-8249-8271e099c9ed",
   "metadata": {},
   "outputs": [],
   "source": []
  },
  {
   "cell_type": "markdown",
   "id": "b1b10259-f5dc-4235-9af2-86d12eab0260",
   "metadata": {},
   "source": [
    "In Python, getter and setter methods are used to access and modify the attributes (variables) of a class in a controlled way. They provide encapsulation and allow you to enforce constraints or perform additional operations when getting or setting the values of attributes.\n",
    "\n",
    "A getter method, also known as an accessor method, is used to retrieve the value of an attribute, while a setter method, also known as a mutator method, is used to set the value of an attribute."
   ]
  },
  {
   "cell_type": "code",
   "execution_count": 4,
   "id": "199517a2-d661-4264-9000-513b3dbfe83e",
   "metadata": {},
   "outputs": [
    {
     "name": "stdout",
     "output_type": "stream",
     "text": [
      "Student Name: Alice\n",
      "Student Age: 25\n",
      "Updated Student Name: Bob\n",
      "Updated Student Age: 30\n"
     ]
    }
   ],
   "source": [
    "class Student:\n",
    "    def __init__(self, name, age):\n",
    "        self._name = name  # Private attribute\n",
    "        self._age = age    # Private attribute\n",
    "\n",
    "    # Getter method for name\n",
    "    def get_name(self):\n",
    "        return self._name\n",
    "\n",
    "    # Setter method for name\n",
    "    def set_name(self, name):\n",
    "        if len(name) <= 50:  # Check if the name is not too long\n",
    "            self._name = name\n",
    "        else:\n",
    "            print(\"Name is too long!\")\n",
    "\n",
    "    # Getter method for age\n",
    "    def get_age(self):\n",
    "        return self._age\n",
    "\n",
    "    # Setter method for age\n",
    "    def set_age(self, age):\n",
    "        if 0 <= age <= 150:  # Check if age is within a valid range\n",
    "            self._age = age\n",
    "        else:\n",
    "            print(\"Invalid age!\")\n",
    "\n",
    "# Create an instance of the Student class\n",
    "student = Student(\"Alice\", 25)\n",
    "\n",
    "# Using getter to access attributes\n",
    "print(\"Student Name:\", student.get_name())\n",
    "print(\"Student Age:\", student.get_age())\n",
    "\n",
    "# Using setter to modify attributes\n",
    "student.set_name(\"Bob\")\n",
    "student.set_age(30)\n",
    "\n",
    "print(\"Updated Student Name:\", student.get_name())\n",
    "print(\"Updated Student Age:\", student.get_age())\n"
   ]
  },
  {
   "cell_type": "code",
   "execution_count": null,
   "id": "81c85138-070a-4a84-9a50-665b047925f0",
   "metadata": {},
   "outputs": [],
   "source": []
  },
  {
   "cell_type": "markdown",
   "id": "cd8d252c-aedf-4f74-b479-698880050da5",
   "metadata": {},
   "source": [
    "\n",
    "Method overriding is a concept in object-oriented programming where a subclass provides a specific implementation for a method that is already defined in its superclass. This allows the subclass to provide a modified or extended behavior for that method while maintaining the same method signature as the parent class."
   ]
  },
  {
   "cell_type": "code",
   "execution_count": null,
   "id": "d0feb694-a379-4dda-b33e-496bf8495ae9",
   "metadata": {},
   "outputs": [],
   "source": [
    "class Animal:\n",
    "    def speak(self):\n",
    "        print(\"Animal speaks\")\n",
    "\n",
    "class Dog(Animal):\n",
    "    def speak(self):\n",
    "        print(\"Dog barks\")\n",
    "\n",
    "class Cat(Animal):\n",
    "    def speak(self):\n",
    "        print(\"Cat meows\")\n",
    "\n",
    "# Example usage:\n",
    "animal = Animal()\n",
    "dog = Dog()\n",
    "cat = Cat()\n",
    "\n",
    "animal.speak()  # Output: Animal speaks\n",
    "dog.speak()     # Output: Dog barks\n",
    "cat.speak()     # Output: Cat meows\n"
   ]
  }
 ],
 "metadata": {
  "kernelspec": {
   "display_name": "Python 3 (ipykernel)",
   "language": "python",
   "name": "python3"
  },
  "language_info": {
   "codemirror_mode": {
    "name": "ipython",
    "version": 3
   },
   "file_extension": ".py",
   "mimetype": "text/x-python",
   "name": "python",
   "nbconvert_exporter": "python",
   "pygments_lexer": "ipython3",
   "version": "3.10.8"
  }
 },
 "nbformat": 4,
 "nbformat_minor": 5
}
